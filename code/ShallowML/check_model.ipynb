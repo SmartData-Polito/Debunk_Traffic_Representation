{
 "cells": [
  {
   "cell_type": "markdown",
   "metadata": {},
   "source": [
    "# AutoGluon for automatic task\n",
    "Try to use Autogluon for traditional baseline"
   ]
  },
  {
   "cell_type": "code",
   "execution_count": null,
   "metadata": {
    "tags": []
   },
   "outputs": [],
   "source": [
    "import os\n",
    "import logging\n",
    "\n",
    "os.chdir('LLM4Traffic/code/Traditional')\n",
    "\n",
    "logging.basicConfig(       \n",
    "    level=logging.INFO,            \n",
    "    format='%(asctime)s - %(name)s - %(levelname)s - %(message)s',  \n",
    "    handlers=[\n",
    "        logging.FileHandler('logs/AutoGluon_check_model.log', mode='w'),  \n",
    "        logging.StreamHandler()          \n",
    "    ],\n",
    "    force=True\n",
    ")\n",
    "\n",
    "logger = logging.getLogger()"
   ]
  },
  {
   "cell_type": "code",
   "execution_count": null,
   "metadata": {
    "tags": []
   },
   "outputs": [],
   "source": [
    "from autogluon.tabular import TabularPredictor\n",
    "import matplotlib.pyplot as plt\n",
    "import pandas as pd\n",
    "import json\n",
    "\n",
    "dataset = 'tls'\n",
    "type = 'normalized'\n",
    "experiment = 'polishedns'\n",
    "id = 0\n",
    "\n",
    "\n",
    "if experiment == 'polishedns':\n",
    "    title = 'Per-flow'\n",
    "\n",
    "model_path = f'AutogluonModels/{experiment}/{dataset}/{type}_{id}'\n",
    "predictor = TabularPredictor.load(model_path)\n",
    "\n",
    "rf_sklearn_model = predictor._trainer.load_model('RandomForestGini').model\n",
    "\n",
    "# 获取特征重要性\n",
    "feature_importance_sklearn = rf_sklearn_model.feature_importances_\n",
    "print(\"Feature Importance from sklearn RF:\", feature_importance_sklearn)\n",
    "\n",
    "# 获取特征名称\n",
    "feature_names = predictor.feature_metadata.get_features()\n",
    "\n",
    "feature_importance_dict = dict(zip(feature_names, feature_importance_sklearn))\n",
    "print(\"Mapped Feature Importance:\", feature_importance_dict)\n",
    "\n",
    "importance_df = pd.DataFrame(list(feature_importance_dict.items()), columns=['Feature', 'Importance'])\n",
    "importance_df = importance_df.sort_values(by='Importance', ascending=False)\n",
    "importance_df.to_csv(f'figures/data/importance_{experiment}_{dataset}_{type}_{id}.csv', index=False)\n",
    "\n",
    "\n",
    "# 可视化\n",
    "plt.figure(figsize=(12, 6))\n",
    "plt.barh(importance_df['Feature'], importance_df['Importance'], color='teal')\n",
    "plt.xlabel('Importance')\n",
    "plt.ylabel('Feature')\n",
    "plt.title(f'Feature Importance of RF Model on {title} {dataset}')\n",
    "plt.gca().invert_yaxis()\n",
    "plt.savefig(f'figures/new_plots/importance_{experiment}_{dataset}_{type}_{id}.png')\n",
    "plt.show()\n"
   ]
  },
  {
   "cell_type": "code",
   "execution_count": null,
   "metadata": {},
   "outputs": [],
   "source": [
    "import matplotlib.pyplot as plt\n",
    "\n",
    "# 转换为 DataFrame\n",
    "import pandas as pd\n",
    "\n",
    "\n",
    "importance_df = pd.DataFrame(list(feature_importance_dict.items()), columns=['Feature', 'Importance'])\n",
    "importance_df = importance_df.sort_values(by='Importance', ascending=False)\n",
    "\n",
    "# 可视化\n",
    "plt.figure(figsize=(12, 6))\n",
    "plt.barh(importance_df['Feature'], importance_df['Importance'], color='teal')\n",
    "plt.xlabel('Importance')\n",
    "plt.ylabel('Feature')\n",
    "plt.title('Feature Importance')\n",
    "plt.gca().invert_yaxis()\n",
    "plt.show()\n"
   ]
  }
 ],
 "metadata": {
  "kernelspec": {
   "display_name": "Python [conda env:autogluon]",
   "language": "python",
   "name": "conda-env-autogluon-py"
  },
  "language_info": {
   "codemirror_mode": {
    "name": "ipython",
    "version": 3
   },
   "file_extension": ".py",
   "mimetype": "text/x-python",
   "name": "python",
   "nbconvert_exporter": "python",
   "pygments_lexer": "ipython3",
   "version": "3.11.10"
  }
 },
 "nbformat": 4,
 "nbformat_minor": 4
}
